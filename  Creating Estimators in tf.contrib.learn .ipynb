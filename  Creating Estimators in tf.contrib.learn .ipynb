{
 "cells": [
  {
   "cell_type": "markdown",
   "metadata": {},
   "source": [
    "Ref: https://www.tensorflow.org/tutorials/estimators/\n",
    "But modified a bit..."
   ]
  },
  {
   "cell_type": "code",
   "execution_count": 5,
   "metadata": {
    "collapsed": true
   },
   "outputs": [],
   "source": [
    "from __future__ import absolute_import\n",
    "from __future__ import division\n",
    "from __future__ import print_function\n",
    "\n",
    "import tempfile\n",
    "import urllib\n",
    "\n",
    "import numpy as np\n",
    "import tensorflow as tf\n",
    "\n",
    "\n"
   ]
  },
  {
   "cell_type": "code",
   "execution_count": 8,
   "metadata": {
    "collapsed": false
   },
   "outputs": [
    {
     "name": "stdout",
     "output_type": "stream",
     "text": [
      "Training data is downloaded to /tmp/tmpE4JzQM\n"
     ]
    }
   ],
   "source": [
    "train_file = tempfile.NamedTemporaryFile(delete=False)\n",
    "urllib.urlretrieve(\"http://download.tensorflow.org/data/abalone_train.csv\", train_file.name)\n",
    "train_file_name = train_file.name\n",
    "train_file.close()\n",
    "print(\"Training data is downloaded to %s\" % train_file_name)\n"
   ]
  },
  {
   "cell_type": "code",
   "execution_count": 9,
   "metadata": {
    "collapsed": false
   },
   "outputs": [
    {
     "name": "stdout",
     "output_type": "stream",
     "text": [
      "Test data is downloaded to /tmp/tmp8CJnbb\n"
     ]
    }
   ],
   "source": [
    "test_file = tempfile.NamedTemporaryFile(delete=False)\n",
    "urllib.urlretrieve(\"http://download.tensorflow.org/data/abalone_test.csv\", test_file.name)\n",
    "test_file_name = test_file.name\n",
    "test_file.close()\n",
    "print(\"Test data is downloaded to %s\" % test_file_name)\n"
   ]
  },
  {
   "cell_type": "code",
   "execution_count": 10,
   "metadata": {
    "collapsed": false
   },
   "outputs": [
    {
     "name": "stdout",
     "output_type": "stream",
     "text": [
      "Prediction data is downloaded to /tmp/tmpc38b8B\n"
     ]
    }
   ],
   "source": [
    "predict_file = tempfile.NamedTemporaryFile(delete=False)\n",
    "urllib.urlretrieve(\"http://download.tensorflow.org/data/abalone_predict.csv\", predict_file.name)\n",
    "predict_file_name = predict_file.name\n",
    "predict_file.close()\n",
    "print(\"Prediction data is downloaded to %s\" % predict_file_name)\n"
   ]
  },
  {
   "cell_type": "code",
   "execution_count": 13,
   "metadata": {
    "collapsed": false
   },
   "outputs": [],
   "source": [
    "# Training examples\n",
    "training_set = tf.contrib.learn.datasets.base.load_csv_without_header(\n",
    "    filename=train_file_name,\n",
    "    target_dtype=np.int,\n",
    "    features_dtype=np.float64)\n",
    "\n",
    "# Test examples\n",
    "test_set = tf.contrib.learn.datasets.base.load_csv_without_header(\n",
    "    filename=test_file_name,\n",
    "    target_dtype=np.int,\n",
    "    features_dtype=np.float64)\n",
    "\n",
    "# Set of 7 examples for which to predict abalone ages\n",
    "prediction_set = tf.contrib.learn.datasets.base.load_csv_without_header(\n",
    "    filename=predict_file_name,\n",
    "    target_dtype=np.int,\n",
    "    features_dtype=np.float64)\n"
   ]
  },
  {
   "cell_type": "code",
   "execution_count": 21,
   "metadata": {
    "collapsed": true
   },
   "outputs": [],
   "source": [
    "def model_fn(features, targets, mode, params):\n",
    "  \"\"\"Model function for Estimator.\"\"\"\n",
    "\n",
    "  # Connect the first hidden layer to input layer\n",
    "  # (features) with relu activation\n",
    "  first_hidden_layer = tf.contrib.layers.relu(features, 10)\n",
    "\n",
    "  # Connect the second hidden layer to first hidden layer with relu\n",
    "  second_hidden_layer = tf.contrib.layers.relu(first_hidden_layer, 10)\n",
    "\n",
    "  # Connect the output layer to second hidden layer (no activation fn)\n",
    "  output_layer = tf.contrib.layers.linear(second_hidden_layer, 1)\n",
    "\n",
    "  # Reshape output layer to 1-dim Tensor to return predictions\n",
    "  predictions = tf.reshape(output_layer, [-1])\n",
    "  predictions_dict = {\"ages\": predictions}\n",
    "\n",
    "  # Calculate loss using mean squared error\n",
    "  loss = tf.contrib.losses.mean_squared_error(predictions, targets)\n",
    "\n",
    "  train_op = tf.contrib.layers.optimize_loss(\n",
    "      loss=loss,\n",
    "      global_step=tf.contrib.framework.get_global_step(),\n",
    "      learning_rate=params[\"learning_rate\"],\n",
    "      optimizer=\"Adam\")\n",
    "\n",
    "  return predictions_dict, loss, train_op\n",
    "\n"
   ]
  },
  {
   "cell_type": "code",
   "execution_count": 22,
   "metadata": {
    "collapsed": false
   },
   "outputs": [
    {
     "name": "stderr",
     "output_type": "stream",
     "text": [
      "WARNING:tensorflow:Using temporary folder as model directory: /tmp/tmpyTT0Gj\n",
      "WARNING:tensorflow:Using default config.\n",
      "INFO:tensorflow:Using config: {'task': 0, 'save_summary_steps': 100, 'keep_checkpoint_max': 5, '_is_chief': True, 'save_checkpoints_secs': 600, 'evaluation_master': '', 'tf_config': gpu_options {\n",
      "  per_process_gpu_memory_fraction: 1\n",
      "}\n",
      ", 'master': '', 'keep_checkpoint_every_n_hours': 10000, '_job_name': None, 'cluster_spec': None, 'tf_random_seed': None, 'num_ps_replicas': 0}\n",
      "WARNING:tensorflow:float64 is not supported by many models, consider casting to float32.\n",
      "INFO:tensorflow:Setting feature info to TensorSignature(dtype=tf.float64, shape=TensorShape([Dimension(None), Dimension(7)]), is_sparse=False)\n",
      "INFO:tensorflow:Setting targets info to TensorSignature(dtype=tf.int64, shape=TensorShape([Dimension(None)]), is_sparse=False)\n",
      "WARNING:tensorflow:sum_of_squares (from tensorflow.contrib.losses.python.losses.loss_ops) is deprecated and will be removed after 2016-10-01.\n",
      "Instructions for updating:\n",
      "Use mean_squared_error.\n",
      "INFO:tensorflow:Create CheckpointSaverHook\n",
      "INFO:tensorflow:loss = 112.797, step = 1\n",
      "INFO:tensorflow:Saving checkpoints for 1 into /tmp/tmpyTT0Gj/model.ckpt.\n",
      "INFO:tensorflow:loss = 97.0957, step = 101\n",
      "INFO:tensorflow:loss = 51.2427, step = 201\n",
      "INFO:tensorflow:loss = 12.2182, step = 301\n",
      "INFO:tensorflow:loss = 8.73489, step = 401\n",
      "INFO:tensorflow:loss = 8.53527, step = 501\n",
      "INFO:tensorflow:loss = 8.34599, step = 601\n",
      "INFO:tensorflow:loss = 8.16045, step = 701\n",
      "INFO:tensorflow:loss = 7.97673, step = 801\n",
      "INFO:tensorflow:loss = 7.80494, step = 901\n",
      "INFO:tensorflow:loss = 7.65203, step = 1001\n",
      "INFO:tensorflow:loss = 7.51714, step = 1101\n",
      "INFO:tensorflow:loss = 7.39417, step = 1201\n",
      "INFO:tensorflow:loss = 7.24727, step = 1301\n",
      "INFO:tensorflow:loss = 7.09011, step = 1401\n",
      "INFO:tensorflow:loss = 6.92844, step = 1501\n",
      "INFO:tensorflow:loss = 6.76628, step = 1601\n",
      "INFO:tensorflow:loss = 6.60296, step = 1701\n",
      "INFO:tensorflow:loss = 6.43392, step = 1801\n",
      "INFO:tensorflow:loss = 6.25798, step = 1901\n",
      "INFO:tensorflow:loss = 6.07761, step = 2001\n",
      "INFO:tensorflow:loss = 5.89499, step = 2101\n",
      "INFO:tensorflow:loss = 5.7122, step = 2201\n",
      "INFO:tensorflow:loss = 5.53272, step = 2301\n",
      "INFO:tensorflow:loss = 5.34398, step = 2401\n",
      "INFO:tensorflow:loss = 5.18806, step = 2501\n",
      "INFO:tensorflow:loss = 5.06977, step = 2601\n",
      "INFO:tensorflow:loss = 4.98669, step = 2701\n",
      "INFO:tensorflow:loss = 4.92862, step = 2801\n",
      "INFO:tensorflow:loss = 4.89054, step = 2901\n",
      "INFO:tensorflow:loss = 4.86588, step = 3001\n",
      "INFO:tensorflow:loss = 4.84837, step = 3101\n",
      "INFO:tensorflow:loss = 4.83381, step = 3201\n",
      "INFO:tensorflow:loss = 4.82055, step = 3301\n",
      "INFO:tensorflow:loss = 4.80778, step = 3401\n",
      "INFO:tensorflow:loss = 4.79542, step = 3501\n",
      "INFO:tensorflow:loss = 4.78334, step = 3601\n",
      "INFO:tensorflow:loss = 4.7713, step = 3701\n",
      "INFO:tensorflow:loss = 4.75931, step = 3801\n",
      "INFO:tensorflow:loss = 4.7471, step = 3901\n",
      "INFO:tensorflow:loss = 4.73521, step = 4001\n",
      "INFO:tensorflow:loss = 4.72325, step = 4101\n",
      "INFO:tensorflow:loss = 4.71109, step = 4201\n",
      "INFO:tensorflow:loss = 4.69924, step = 4301\n",
      "INFO:tensorflow:loss = 4.68713, step = 4401\n",
      "INFO:tensorflow:loss = 4.67533, step = 4501\n",
      "INFO:tensorflow:loss = 4.66409, step = 4601\n",
      "INFO:tensorflow:loss = 4.65361, step = 4701\n",
      "INFO:tensorflow:loss = 4.64356, step = 4801\n",
      "INFO:tensorflow:loss = 4.634, step = 4901\n",
      "INFO:tensorflow:Saving checkpoints for 5000 into /tmp/tmpyTT0Gj/model.ckpt.\n",
      "INFO:tensorflow:Loss for final step: 4.62508.\n",
      "WARNING:tensorflow:float64 is not supported by many models, consider casting to float32.\n",
      "WARNING:tensorflow:Given features: Tensor(\"input:0\", shape=(?, 7), dtype=float64), required signatures: TensorSignature(dtype=tf.float64, shape=TensorShape([Dimension(None), Dimension(7)]), is_sparse=False).\n",
      "WARNING:tensorflow:Given targets: Tensor(\"output:0\", shape=(?,), dtype=int64), required signatures: TensorSignature(dtype=tf.int64, shape=TensorShape([Dimension(None)]), is_sparse=False).\n",
      "WARNING:tensorflow:sum_of_squares (from tensorflow.contrib.losses.python.losses.loss_ops) is deprecated and will be removed after 2016-10-01.\n",
      "Instructions for updating:\n",
      "Use mean_squared_error.\n",
      "INFO:tensorflow:Restored model from /tmp/tmpyTT0Gj\n",
      "INFO:tensorflow:Eval steps [0,1) for training step 5000.\n",
      "INFO:tensorflow:Saving evaluation summary for 5000 step: loss = 5.41782\n",
      "WARNING:tensorflow:float64 is not supported by many models, consider casting to float32.\n",
      "WARNING:tensorflow:sum_of_squares (from tensorflow.contrib.losses.python.losses.loss_ops) is deprecated and will be removed after 2016-10-01.\n",
      "Instructions for updating:\n",
      "Use mean_squared_error.\n"
     ]
    },
    {
     "name": "stdout",
     "output_type": "stream",
     "text": [
      "Loss: 5.41782\n"
     ]
    },
    {
     "name": "stderr",
     "output_type": "stream",
     "text": [
      "INFO:tensorflow:Loading model from checkpoint: /tmp/tmpyTT0Gj/model.ckpt-5000-?????-of-00001.\n"
     ]
    },
    {
     "name": "stdout",
     "output_type": "stream",
     "text": [
      "Prediction 1: 4.72838905984\n",
      "Prediction 2: 11.0697361746\n",
      "Prediction 3: 7.0667246748\n",
      "Prediction 4: 11.3843663267\n",
      "Prediction 5: 11.2302104386\n",
      "Prediction 6: 9.91030937428\n",
      "Prediction 7: 11.3227967326\n"
     ]
    }
   ],
   "source": [
    "tf.logging.set_verbosity(tf.logging.INFO)\n",
    "LEARNING_RATE = 0.001\n",
    "# Set model params\n",
    "model_params = {\"learning_rate\": LEARNING_RATE}\n",
    "\n",
    "# Build 2 layer fully connected DNN with 10, 10 units respectively.\n",
    "nn = tf.contrib.learn.Estimator(\n",
    "  model_fn=model_fn, params=model_params)\n",
    "\n",
    "# Fit\n",
    "nn.fit(x=training_set.data, y=training_set.target, steps=5000)\n",
    "\n",
    "# Score accuracy\n",
    "ev = nn.evaluate(x=test_set.data, y=test_set.target, steps=1)\n",
    "loss_score = ev[\"loss\"]\n",
    "print(\"Loss: %s\" % loss_score)\n",
    "\n",
    "# Print out predictions\n",
    "predictions = nn.predict(x=prediction_set.data,\n",
    "                           as_iterable=True)\n",
    "for i, p in enumerate(predictions):\n",
    "    print(\"Prediction %s: %s\" % (i + 1, p[\"ages\"]))\n"
   ]
  }
 ],
 "metadata": {
  "kernelspec": {
   "display_name": "Python [Root]",
   "language": "python",
   "name": "Python [Root]"
  },
  "language_info": {
   "codemirror_mode": {
    "name": "ipython",
    "version": 2
   },
   "file_extension": ".py",
   "mimetype": "text/x-python",
   "name": "python",
   "nbconvert_exporter": "python",
   "pygments_lexer": "ipython2",
   "version": "2.7.12"
  }
 },
 "nbformat": 4,
 "nbformat_minor": 0
}
